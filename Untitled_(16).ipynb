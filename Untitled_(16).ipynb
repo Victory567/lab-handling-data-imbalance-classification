{
  "cells": [
    {
      "cell_type": "markdown",
      "metadata": {
        "id": "view-in-github",
        "colab_type": "text"
      },
      "source": [
        "<a href=\"https://colab.research.google.com/github/Victory567/lab-handling-data-imbalance-classification/blob/master/Untitled_(16).ipynb\" target=\"_parent\"><img src=\"https://colab.research.google.com/assets/colab-badge.svg\" alt=\"Open In Colab\"/></a>"
      ]
    },
    {
      "cell_type": "code",
      "execution_count": null,
      "id": "279af810",
      "metadata": {
        "id": "279af810"
      },
      "outputs": [],
      "source": [
        "import pandas as pd\n",
        "import numpy as np\n",
        "import datetime\n",
        "import warnings\n",
        "import matplotlib.pyplot as plt\n",
        "import seaborn as sns\n",
        "from sklearn.model_selection import train_test_split\n",
        "\n",
        "warnings.filterwarnings('ignore')"
      ]
    },
    {
      "cell_type": "code",
      "execution_count": null,
      "id": "5d49fc0f",
      "metadata": {
        "id": "5d49fc0f"
      },
      "outputs": [],
      "source": [
        "churnData = pd.read_csv('Customer-Churn.csv')"
      ]
    },
    {
      "cell_type": "code",
      "execution_count": null,
      "id": "6c7cb351",
      "metadata": {
        "id": "6c7cb351",
        "outputId": "4b6bb538-e58f-4dd3-a6e0-a62261227119"
      },
      "outputs": [
        {
          "data": {
            "text/html": [
              "<div>\n",
              "<style scoped>\n",
              "    .dataframe tbody tr th:only-of-type {\n",
              "        vertical-align: middle;\n",
              "    }\n",
              "\n",
              "    .dataframe tbody tr th {\n",
              "        vertical-align: top;\n",
              "    }\n",
              "\n",
              "    .dataframe thead th {\n",
              "        text-align: right;\n",
              "    }\n",
              "</style>\n",
              "<table border=\"1\" class=\"dataframe\">\n",
              "  <thead>\n",
              "    <tr style=\"text-align: right;\">\n",
              "      <th></th>\n",
              "      <th>SeniorCitizen</th>\n",
              "      <th>tenure</th>\n",
              "      <th>MonthlyCharges</th>\n",
              "    </tr>\n",
              "  </thead>\n",
              "  <tbody>\n",
              "    <tr>\n",
              "      <th>count</th>\n",
              "      <td>7043.000000</td>\n",
              "      <td>7043.000000</td>\n",
              "      <td>7043.000000</td>\n",
              "    </tr>\n",
              "    <tr>\n",
              "      <th>mean</th>\n",
              "      <td>0.162147</td>\n",
              "      <td>32.371149</td>\n",
              "      <td>64.761692</td>\n",
              "    </tr>\n",
              "    <tr>\n",
              "      <th>std</th>\n",
              "      <td>0.368612</td>\n",
              "      <td>24.559481</td>\n",
              "      <td>30.090047</td>\n",
              "    </tr>\n",
              "    <tr>\n",
              "      <th>min</th>\n",
              "      <td>0.000000</td>\n",
              "      <td>0.000000</td>\n",
              "      <td>18.250000</td>\n",
              "    </tr>\n",
              "    <tr>\n",
              "      <th>25%</th>\n",
              "      <td>0.000000</td>\n",
              "      <td>9.000000</td>\n",
              "      <td>35.500000</td>\n",
              "    </tr>\n",
              "    <tr>\n",
              "      <th>50%</th>\n",
              "      <td>0.000000</td>\n",
              "      <td>29.000000</td>\n",
              "      <td>70.350000</td>\n",
              "    </tr>\n",
              "    <tr>\n",
              "      <th>75%</th>\n",
              "      <td>0.000000</td>\n",
              "      <td>55.000000</td>\n",
              "      <td>89.850000</td>\n",
              "    </tr>\n",
              "    <tr>\n",
              "      <th>max</th>\n",
              "      <td>1.000000</td>\n",
              "      <td>72.000000</td>\n",
              "      <td>118.750000</td>\n",
              "    </tr>\n",
              "  </tbody>\n",
              "</table>\n",
              "</div>"
            ],
            "text/plain": [
              "       SeniorCitizen       tenure  MonthlyCharges\n",
              "count    7043.000000  7043.000000     7043.000000\n",
              "mean        0.162147    32.371149       64.761692\n",
              "std         0.368612    24.559481       30.090047\n",
              "min         0.000000     0.000000       18.250000\n",
              "25%         0.000000     9.000000       35.500000\n",
              "50%         0.000000    29.000000       70.350000\n",
              "75%         0.000000    55.000000       89.850000\n",
              "max         1.000000    72.000000      118.750000"
            ]
          },
          "execution_count": 3,
          "metadata": {},
          "output_type": "execute_result"
        }
      ],
      "source": [
        "churnData.describe()"
      ]
    },
    {
      "cell_type": "code",
      "execution_count": null,
      "id": "d45562f1",
      "metadata": {
        "id": "d45562f1",
        "outputId": "43aa1e1d-d6a4-4efe-d362-d4eea313bd63"
      },
      "outputs": [
        {
          "data": {
            "text/plain": [
              "<bound method DataFrame.info of       gender  SeniorCitizen Partner Dependents  tenure PhoneService  \\\n",
              "0     Female              0     Yes         No       1           No   \n",
              "1       Male              0      No         No      34          Yes   \n",
              "2       Male              0      No         No       2          Yes   \n",
              "3       Male              0      No         No      45           No   \n",
              "4     Female              0      No         No       2          Yes   \n",
              "...      ...            ...     ...        ...     ...          ...   \n",
              "7038    Male              0     Yes        Yes      24          Yes   \n",
              "7039  Female              0     Yes        Yes      72          Yes   \n",
              "7040  Female              0     Yes        Yes      11           No   \n",
              "7041    Male              1     Yes         No       4          Yes   \n",
              "7042    Male              0      No         No      66          Yes   \n",
              "\n",
              "     OnlineSecurity OnlineBackup DeviceProtection TechSupport StreamingTV  \\\n",
              "0                No          Yes               No          No          No   \n",
              "1               Yes           No              Yes          No          No   \n",
              "2               Yes          Yes               No          No          No   \n",
              "3               Yes           No              Yes         Yes          No   \n",
              "4                No           No               No          No          No   \n",
              "...             ...          ...              ...         ...         ...   \n",
              "7038            Yes           No              Yes         Yes         Yes   \n",
              "7039             No          Yes              Yes          No         Yes   \n",
              "7040            Yes           No               No          No          No   \n",
              "7041             No           No               No          No          No   \n",
              "7042            Yes           No              Yes         Yes         Yes   \n",
              "\n",
              "     StreamingMovies        Contract  MonthlyCharges TotalCharges Churn  \n",
              "0                 No  Month-to-month           29.85        29.85    No  \n",
              "1                 No        One year           56.95       1889.5    No  \n",
              "2                 No  Month-to-month           53.85       108.15   Yes  \n",
              "3                 No        One year           42.30      1840.75    No  \n",
              "4                 No  Month-to-month           70.70       151.65   Yes  \n",
              "...              ...             ...             ...          ...   ...  \n",
              "7038             Yes        One year           84.80       1990.5    No  \n",
              "7039             Yes        One year          103.20       7362.9    No  \n",
              "7040              No  Month-to-month           29.60       346.45    No  \n",
              "7041              No  Month-to-month           74.40        306.6   Yes  \n",
              "7042             Yes        Two year          105.65       6844.5    No  \n",
              "\n",
              "[7043 rows x 16 columns]>"
            ]
          },
          "execution_count": 4,
          "metadata": {},
          "output_type": "execute_result"
        }
      ],
      "source": [
        "churnData.info"
      ]
    },
    {
      "cell_type": "code",
      "execution_count": null,
      "id": "ba7c6554",
      "metadata": {
        "id": "ba7c6554"
      },
      "outputs": [],
      "source": [
        "null_values = churnData.isnull().sum()\n",
        "churnData.fillna(0, inplace=True)"
      ]
    },
    {
      "cell_type": "code",
      "execution_count": null,
      "id": "7d34783b",
      "metadata": {
        "id": "7d34783b"
      },
      "outputs": [],
      "source": [
        "from sklearn.preprocessing import StandardScaler\n",
        "scaler = StandardScaler()\n",
        "scaler.fit(churnData[['tenure']])\n",
        "churnData['tenure_scaled'] = scaler.transform(churnData[['tenure']])"
      ]
    },
    {
      "cell_type": "code",
      "execution_count": null,
      "id": "f9672ec1",
      "metadata": {
        "id": "f9672ec1"
      },
      "outputs": [],
      "source": [
        "X_train, X_test, y_train, y_test = train_test_split(churnData.drop('tenure', axis=1), churnData['tenure'], test_size=0.2, random_state=42)"
      ]
    },
    {
      "cell_type": "code",
      "execution_count": null,
      "id": "a439bf2e",
      "metadata": {
        "id": "a439bf2e"
      },
      "outputs": [],
      "source": [
        "from sklearn.metrics import accuracy_score\n",
        "from sklearn.linear_model import LogisticRegression"
      ]
    },
    {
      "cell_type": "code",
      "execution_count": null,
      "id": "273247d2",
      "metadata": {
        "id": "273247d2"
      },
      "outputs": [],
      "source": [
        "logreg = LogisticRegression()\n",
        "logreg.fit(X_train, y_train)\n",
        "y_pred = logreg.predict(X_test)"
      ]
    },
    {
      "cell_type": "code",
      "execution_count": null,
      "id": "bb2b0dc3",
      "metadata": {
        "id": "bb2b0dc3"
      },
      "outputs": [],
      "source": [
        "from sklearn.preprocessing import StandardScaler\n",
        "scaler = StandardScaler()\n",
        "scaler.fit(churnData[['SeniorCitizen']])\n",
        "churnData['SeniorCitizen_scaled'] = scaler.transform(churnData[['SeniorCitizen']])"
      ]
    },
    {
      "cell_type": "code",
      "execution_count": null,
      "id": "17a88a17",
      "metadata": {
        "id": "17a88a17"
      },
      "outputs": [],
      "source": [
        "X_train, X_test, y_train, y_test = train_test_split(churnData.drop('SeniorCitizen', axis=1), churnData['SeniorCitizen'], test_size=0.2, random_state=42)"
      ]
    },
    {
      "cell_type": "code",
      "execution_count": null,
      "id": "3db4b111",
      "metadata": {
        "id": "3db4b111",
        "outputId": "0edcfa74-b3f8-4843-90d9-dc0ef7ee19ce"
      },
      "outputs": [
        {
          "name": "stdout",
          "output_type": "stream",
          "text": [
            "Class counts:\n",
            "1     613\n",
            "72    362\n",
            "2     238\n",
            "3     200\n",
            "4     176\n",
            "     ... \n",
            "28     57\n",
            "39     56\n",
            "44     51\n",
            "36     50\n",
            "0      11\n",
            "Name: tenure, Length: 73, dtype: int64\n"
          ]
        }
      ],
      "source": [
        "churnData= pd.read_csv('Customer-Churn.csv')\n",
        "class_counts = churnData['tenure'].value_counts()\n",
        "\n",
        "print(\"Class counts:\")\n",
        "print(class_counts)\n"
      ]
    },
    {
      "cell_type": "code",
      "execution_count": null,
      "id": "de8c886f",
      "metadata": {
        "id": "de8c886f",
        "outputId": "26d8696e-b592-48f5-a5a0-8e0141a57f1a"
      },
      "outputs": [
        {
          "name": "stdout",
          "output_type": "stream",
          "text": [
            "1     613\n",
            "50    613\n",
            "6     613\n",
            "41    613\n",
            "36    613\n",
            "     ... \n",
            "5     613\n",
            "27    613\n",
            "17    613\n",
            "72    613\n",
            "39    613\n",
            "Name: tenure, Length: 73, dtype: int64\n"
          ]
        }
      ],
      "source": [
        "import pandas as pd\n",
        "from imblearn.over_sampling import RandomOverSampler\n",
        "\n",
        "df = pd.read_csv('Customer-Churn.csv')\n",
        "X = df.drop('tenure', axis=1)\n",
        "y = df['tenure']\n",
        "\n",
        "oversampler = RandomOverSampler(random_state=42)\n",
        "\n",
        "X_resampled, y_resampled = oversampler.fit_resample(X, y)\n",
        "print(pd.Series(y_resampled).value_counts())"
      ]
    },
    {
      "cell_type": "code",
      "execution_count": null,
      "id": "1f93f510",
      "metadata": {
        "id": "1f93f510"
      },
      "outputs": [],
      "source": []
    }
  ],
  "metadata": {
    "kernelspec": {
      "display_name": "Python 3 (ipykernel)",
      "language": "python",
      "name": "python3"
    },
    "language_info": {
      "codemirror_mode": {
        "name": "ipython",
        "version": 3
      },
      "file_extension": ".py",
      "mimetype": "text/x-python",
      "name": "python",
      "nbconvert_exporter": "python",
      "pygments_lexer": "ipython3",
      "version": "3.9.12"
    },
    "colab": {
      "provenance": [],
      "include_colab_link": true
    }
  },
  "nbformat": 4,
  "nbformat_minor": 5
}